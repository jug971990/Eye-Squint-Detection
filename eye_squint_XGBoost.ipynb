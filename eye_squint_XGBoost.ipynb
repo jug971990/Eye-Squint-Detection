{
 "cells": [
  {
   "cell_type": "markdown",
   "metadata": {
    "collapsed": true
   },
   "source": [
    "## Import packages"
   ]
  },
  {
   "cell_type": "code",
   "execution_count": 1,
   "metadata": {
    "collapsed": true
   },
   "outputs": [],
   "source": [
    "import numpy as np\n",
    "import pandas as pd\n",
    "import joblib\n",
    "import math\n",
    "import time\n",
    "current_t = time.time()\n",
    "from pandas import DataFrame\n",
    "from array import array\n",
    "import xgboost \n",
    "from xgboost import XGBClassifier\n",
    "from sklearn.svm import SVC\n",
    "from sklearn.ensemble import RandomForestClassifier \n",
    "#from sklearn.metrics import balanced_accuracy_score\n",
    "from sklearn.ensemble import RandomForestRegressor \n",
    "from sklearn.metrics import mean_squared_error as mse\n",
    "from sklearn.feature_selection import VarianceThreshold\n",
    "#import tgboost as tgb\n",
    "import math\n",
    "import sklearn\n",
    "from pandas import DataFrame\n",
    "import pickle\n",
    "import scipy\n",
    "from scipy import sparse\n",
    "import pyodbc\n",
    "import seaborn as sb\n",
    "%matplotlib inline\n",
    "from sklearn import preprocessing\n",
    "#import dill\n",
    "import os\n",
    "#dill.dumps(os)\n",
    "from sklearn.metrics import roc_auc_score  \n",
    "#from mlxtend.feature_selection import SequentialFeatureSelector\n",
    "#from mlxtend.feature_selection import ExhaustiveFeatureSelector  \n",
    "from scipy.sparse import csr_matrix\n",
    "from scipy.stats import randint as sp_randint\n",
    "from sklearn.metrics import accuracy_score\n",
    "from sklearn.metrics import roc_curve\n",
    "from sklearn.metrics import auc\n",
    "from sklearn.metrics import recall_score\n",
    "from sklearn.metrics import confusion_matrix\n",
    "from sklearn.model_selection import StratifiedKFold\n",
    "from sklearn.metrics import classification_report, accuracy_score, make_scorer\n",
    "import warnings\n",
    "warnings.filterwarnings('ignore')\n",
    "#from termcolor import colored\n",
    "from sklearn.metrics import classification_report\n",
    "import warnings\n",
    "warnings.filterwarnings('ignore')\n",
    "from multiprocessing import Pool\n",
    "from timeit import default_timer as timer\n",
    "from math import sqrt\n",
    "from sklearn.feature_extraction.text import TfidfVectorizer\n",
    "from sklearn.feature_extraction.text import CountVectorizer\n",
    "from sklearn import preprocessing\n",
    "#from nltk.stem.snowball import FrenchStemmer\n",
    "from sklearn.decomposition import TruncatedSVD\n",
    "from sklearn.preprocessing import LabelBinarizer\n",
    "from collections import defaultdict\n",
    "from sklearn.pipeline import Pipeline\n",
    "from sklearn.metrics import mean_squared_error\n",
    "from sklearn.svm import SVC\n",
    "from sklearn.decomposition import PCA\n",
    "from sklearn.preprocessing import StandardScaler\n",
    "from scipy.sparse import csr_matrix\n",
    "from sklearn import linear_model\n",
    "from sklearn.model_selection import GridSearchCV\n",
    "from sklearn.model_selection import StratifiedShuffleSplit\n",
    "from sklearn.feature_selection import SelectPercentile, f_classif\n",
    "from sklearn import svm\n",
    "import matplotlib.pyplot as plt\n",
    "from sklearn.neighbors import KNeighborsRegressor\n",
    "from sklearn.linear_model import LinearRegression, LogisticRegression\n",
    "from sklearn.svm import SVR\n",
    "from sklearn.metrics import r2_score\n",
    "from sklearn.model_selection import train_test_split\n",
    "from sklearn.ensemble import RandomForestRegressor\n",
    "from sklearn.model_selection import cross_val_score\n",
    "from scipy.stats import uniform as sp_rand\n",
    "#from sklearn.cross_validation import RandomizedSearchCV\n",
    "#from xgboost.sklearn import XGBClassifier\n",
    "from sklearn import metrics   #Additional scklearn functions\n",
    "from sklearn.model_selection import cross_validate\n",
    "from sklearn.metrics.scorer import make_scorer\n",
    "from sklearn.metrics import confusion_matrix\n",
    "import matplotlib.pylab as plt\n",
    "%matplotlib inline\n",
    "from matplotlib.pylab import rcParams\n",
    "rcParams['figure.figsize'] = 12, 4\n",
    "%matplotlib inline\n",
    "import matplotlib.pyplot as plt\n",
    "import matplotlib\n",
    "matplotlib.use(\"Agg\") #Needed to save figures\n",
    "from sklearn.metrics import roc_auc_score\n",
    "import sklearn.metrics"
   ]
  },
  {
   "cell_type": "markdown",
   "metadata": {},
   "source": [
    "## Read data"
   ]
  },
  {
   "cell_type": "code",
   "execution_count": 2,
   "metadata": {
    "collapsed": true
   },
   "outputs": [],
   "source": [
    "train = pd.read_table('data_tv41.csv',sep=\",\")\n",
    "test = pd.read_table('data_tv41.csv',sep=\",\")"
   ]
  },
  {
   "cell_type": "code",
   "execution_count": 3,
   "metadata": {
    "collapsed": true
   },
   "outputs": [],
   "source": [
    "df = train\n",
    "gf = test"
   ]
  },
  {
   "cell_type": "code",
   "execution_count": 63,
   "metadata": {
    "collapsed": true
   },
   "outputs": [],
   "source": [
    "X_tr = (df.iloc[:,1:])\n",
    "y_tr = df.iloc[:,0]"
   ]
  },
  {
   "cell_type": "markdown",
   "metadata": {},
   "source": [
    "## Grid_Search"
   ]
  },
  {
   "cell_type": "code",
   "execution_count": null,
   "metadata": {},
   "outputs": [],
   "source": [
    "X_sel = X_tr\n",
    "#X_sel = X_train\n",
    "#y = train_labels\n",
    "y = y_tr\n",
    "\n",
    "\n",
    "# Based on https://www.kaggle.com/cast42/flavours-of-physics/gridsearchcv-with-feature-in-xgboost/code\n",
    "\n",
    "xgb_model = xgboost.XGBClassifier()\n",
    "\n",
    "\n",
    "parameters = {'nthread':[4], #when use hyperthread, xgboost may become slower\n",
    "              'objective':['binary:logistic'],\n",
    "              'learning_rate': [0.01,0.1], #so called `eta` value\n",
    "              'max_depth': [3],\n",
    "              'booster': ['gbtree'],\n",
    "              'gamma': [0,1,2],\n",
    "              'max_delta_step': [0,1],\n",
    "              'tree_method': ['auto'],\n",
    "              'eval_metric': ['error'],\n",
    "              'importance_type': ['weight'],\n",
    "              'min_child_weight': [1],\n",
    "              'subsample': [0.5,0.6,0.7,0.8],\n",
    "              'colsample_bytree': [0.5,0.6,0.7],\n",
    "              'n_estimators': [50], #number of trees\n",
    "              'seed': [1337]}\n",
    "\n",
    "clf = GridSearchCV(xgb_model, parameters, n_jobs=-1, \n",
    "                   cv=10, \n",
    "                   verbose=2, refit=True,scoring='f1',return_train_score=True)\n",
    "\n",
    "clf.fit(X_sel, y)\n",
    "\n",
    "print(\"Best parameters set found on development set:\")\n",
    "print(clf.best_params_)\n"
   ]
  },
  {
   "cell_type": "markdown",
   "metadata": {},
   "source": [
    "## Fitting and Testing the model"
   ]
  },
  {
   "cell_type": "code",
   "execution_count": 64,
   "metadata": {
    "collapsed": true
   },
   "outputs": [],
   "source": [
    "### XGBClassifier Model\n",
    "xgb = XGBClassifier(n_estimators=50,objective='binary:logistic', booster='gbtree',learning_rate=0.01,tree_method='auto',eval_metric='error',importance_type='weight',gamma=0,subsample=0.5,colsample_bytree=0.4,min_child_weight=1,max_delta_step=0, max_depth=3,seed=1505)"
   ]
  },
  {
   "cell_type": "code",
   "execution_count": 65,
   "metadata": {
    "collapsed": true
   },
   "outputs": [],
   "source": [
    "n = gf.index\n",
    "pred_array = []\n",
    "\n",
    "X1 = X_tr.as_matrix()\n",
    "y1 = y_tr.as_matrix()\n",
    "xgb.fit(X1,y1)\n",
    "\n",
    "for i in n[6:-6]:\n",
    "    ear=[]\n",
    "    #X_test =[]\n",
    "    ear.append(gf['ear'].iloc[i-6])\n",
    "    ear.append(gf['ear'].iloc[i-5])\n",
    "    ear.append(gf['ear'].iloc[i-4])\n",
    "    ear.append(gf['ear'].iloc[i-3])\n",
    "    ear.append(gf['ear'].iloc[i-2])\n",
    "    ear.append(gf['ear'].iloc[i-1])\n",
    "    ear.append(gf['ear'].iloc[i])\n",
    "    ear.append(gf['ear'].iloc[i+1])\n",
    "    ear.append(gf['ear'].iloc[i+2])\n",
    "    ear.append(gf['ear'].iloc[i+3])\n",
    "    ear.append(gf['ear'].iloc[i+4])\n",
    "    ear.append(gf['ear'].iloc[i+5])\n",
    "    ear.append(gf['ear'].iloc[i+6])\n",
    "    ear.append(gf['ebh'].iloc[i-6])\n",
    "    ear.append(gf['ebh'].iloc[i-5])\n",
    "    ear.append(gf['ebh'].iloc[i-4])\n",
    "    ear.append(gf['ebh'].iloc[i-3])\n",
    "    ear.append(gf['ebh'].iloc[i-2])\n",
    "    ear.append(gf['ebh'].iloc[i-1])\n",
    "    ear.append(gf['ebh'].iloc[i])\n",
    "    ear.append(gf['ebh'].iloc[i+1])\n",
    "    ear.append(gf['ebh'].iloc[i+2])\n",
    "    ear.append(gf['ebh'].iloc[i+3])\n",
    "    ear.append(gf['ebh'].iloc[i+4])\n",
    "    ear.append(gf['ebh'].iloc[i+5])\n",
    "    ear.append(gf['ebh'].iloc[i+6])\n",
    "    ear.append(gf['ebd'].iloc[i-6])\n",
    "    ear.append(gf['ebd'].iloc[i-5])\n",
    "    ear.append(gf['ebd'].iloc[i-4])\n",
    "    ear.append(gf['ebd'].iloc[i-3])\n",
    "    ear.append(gf['ebd'].iloc[i-2])\n",
    "    ear.append(gf['ebd'].iloc[i-1])\n",
    "    ear.append(gf['ebd'].iloc[i])\n",
    "    ear.append(gf['ebd'].iloc[i+1])\n",
    "    ear.append(gf['ebd'].iloc[i+2])\n",
    "    ear.append(gf['ebd'].iloc[i+3])\n",
    "    ear.append(gf['ebd'].iloc[i+4])\n",
    "    ear.append(gf['ebd'].iloc[i+5])\n",
    "    ear.append(gf['ebd'].iloc[i+6])\n",
    "\n",
    "    #gf.loc[i,'Z'].append(ear[:])\n",
    "    \n",
    "    #X_test.append(ear[:])\n",
    "    #print((X_test))\n",
    "    \n",
    "    #preds = clf_svc.predict_proba(X_test)[:, 1]\n",
    "    preds = xgb.predict(np.array(ear).reshape(1, -1))\n",
    "    #preds = 1\n",
    "    pred_array.append(preds)"
   ]
  },
  {
   "cell_type": "markdown",
   "metadata": {},
   "source": [
    "## Classification Metrics"
   ]
  },
  {
   "cell_type": "code",
   "execution_count": 66,
   "metadata": {
    "collapsed": true
   },
   "outputs": [],
   "source": [
    "af = pd.DataFrame(pred_array)"
   ]
  },
  {
   "cell_type": "code",
   "execution_count": 67,
   "metadata": {
    "collapsed": true
   },
   "outputs": [],
   "source": [
    "y_test = gf['Y'].iloc[6:-6]"
   ]
  },
  {
   "cell_type": "code",
   "execution_count": 68,
   "metadata": {
    "collapsed": true
   },
   "outputs": [],
   "source": [
    "y_true = y_test\n",
    "y_pred = af"
   ]
  },
  {
   "cell_type": "code",
   "execution_count": 71,
   "metadata": {},
   "outputs": [
    {
     "name": "stdout",
     "output_type": "stream",
     "text": [
      "Accuracy :  0.9254\n",
      "Sensitivity :  0.9844\n",
      "Specificity :  0.8673\n"
     ]
    }
   ],
   "source": [
    "accuracy = format(accuracy_score(y_true, y_pred),'.4f')\n",
    "\n",
    "\n",
    "sensitivity = format(recall_score(y_true, y_pred,pos_label=1,average='binary'),'.4f')\n",
    "\n",
    "specificity = format(recall_score(y_true, y_pred,pos_label=0,average='binary'),'.4f')\n",
    "\n",
    "print('Accuracy : ', accuracy)   \n",
    "print('Sensitivity : ', sensitivity)\n",
    "print('Specificity : ', specificity)"
   ]
  },
  {
   "cell_type": "markdown",
   "metadata": {},
   "source": [
    "## Saving the results"
   ]
  },
  {
   "cell_type": "code",
   "execution_count": null,
   "metadata": {
    "collapsed": true
   },
   "outputs": [],
   "source": [
    "results = af\n",
    "outfile_name = 'xgb_eye_squint_classification.csv'\n",
    "prediction = pd.DataFrame(np.array(results),columns = ['Y_pred'])\n",
    "prediction.index.name = 'test_id'\n",
    "prediction.to_csv(outfile_name, encoding='utf-8')"
   ]
  },
  {
   "cell_type": "code",
   "execution_count": null,
   "metadata": {
    "collapsed": true
   },
   "outputs": [],
   "source": []
  }
 ],
 "metadata": {
  "kernelspec": {
   "display_name": "Python 3",
   "language": "python",
   "name": "python3"
  },
  "language_info": {
   "codemirror_mode": {
    "name": "ipython",
    "version": 3
   },
   "file_extension": ".py",
   "mimetype": "text/x-python",
   "name": "python",
   "nbconvert_exporter": "python",
   "pygments_lexer": "ipython3",
   "version": "3.6.3"
  }
 },
 "nbformat": 4,
 "nbformat_minor": 2
}
